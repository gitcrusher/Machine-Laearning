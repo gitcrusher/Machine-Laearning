{
 "cells": [
  {
   "cell_type": "markdown",
   "id": "750c4509",
   "metadata": {},
   "source": [
    "Zomato dataset"
   ]
  },
  {
   "cell_type": "code",
   "execution_count": null,
   "id": "1fef7209",
   "metadata": {},
   "outputs": [],
   "source": [
    "import pandas as pd\n",
    "import numpy as np \n",
    "import seaborn as sns\n",
    "import matplotlib.pyplot as plt\n",
    "%matplotlib inline"
   ]
  },
  {
   "cell_type": "code",
   "execution_count": null,
   "id": "3f3f5443",
   "metadata": {},
   "outputs": [],
   "source": [
    "df = pd.read_csv(zomato.csv)"
   ]
  },
  {
   "cell_type": "code",
   "execution_count": null,
   "id": "549ff3d0",
   "metadata": {},
   "outputs": [],
   "source": []
  }
 ],
 "metadata": {
  "kernelspec": {
   "display_name": "Python 3",
   "language": "python",
   "name": "python3"
  },
  "language_info": {
   "codemirror_mode": {
    "name": "ipython",
    "version": 3
   },
   "file_extension": ".py",
   "mimetype": "text/x-python",
   "name": "python",
   "nbconvert_exporter": "python",
   "pygments_lexer": "ipython3",
   "version": "3.13.7"
  }
 },
 "nbformat": 4,
 "nbformat_minor": 5
}
