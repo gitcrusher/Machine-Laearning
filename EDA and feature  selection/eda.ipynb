{
 "cells": [
  {
   "cell_type": "markdown",
   "id": "750c4509",
   "metadata": {},
   "source": [
    "Zomato dataset"
   ]
  },
  {
   "cell_type": "code",
   "execution_count": null,
   "id": "1fef7209",
   "metadata": {},
   "outputs": [],
   "source": []
  },
  {
   "cell_type": "code",
   "execution_count": null,
   "id": "3f3f5443",
   "metadata": {},
   "outputs": [],
   "source": []
  },
  {
   "cell_type": "code",
   "execution_count": null,
   "id": "549ff3d0",
   "metadata": {},
   "outputs": [],
   "source": []
  }
 ],
 "metadata": {
  "language_info": {
   "name": "python"
  }
 },
 "nbformat": 4,
 "nbformat_minor": 5
}
